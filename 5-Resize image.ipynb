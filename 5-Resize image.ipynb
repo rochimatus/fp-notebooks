{
 "cells": [
  {
   "cell_type": "code",
   "execution_count": 1,
   "id": "da5ccf6e",
   "metadata": {},
   "outputs": [],
   "source": [
    "import cv2\n",
    "import os\n",
    "import datetime"
   ]
  },
  {
   "cell_type": "code",
   "execution_count": 2,
   "id": "c1b1e63e",
   "metadata": {},
   "outputs": [
    {
     "name": "stdout",
     "output_type": "stream",
     "text": [
      "['20220206', '20220301', '20220326', '20220327']\n"
     ]
    }
   ],
   "source": [
    "base_src_train_data = 'D:/belajar/PA/dataset/[4-augmented]/'\n",
    "print(os.listdir(base_src_train_data))\n",
    "\n",
    "# src_train_dirs = os.listdir(src_train_data)\n",
    "# src_test_dirs = os.listdir(src_test_data)\n",
    "# print(src_train_dirs)\n",
    "# print(src_test_dirs)\n"
   ]
  },
  {
   "cell_type": "code",
   "execution_count": 3,
   "id": "11d407f1",
   "metadata": {},
   "outputs": [
    {
     "name": "stdout",
     "output_type": "stream",
     "text": [
      "['20220201', '20220228', '20220326', '20220327']\n"
     ]
    }
   ],
   "source": [
    "base_src_test_data = 'D:/belajar/PA/dataset/[3-splitted]/'\n",
    "print(os.listdir(base_src_test_data))"
   ]
  },
  {
   "cell_type": "code",
   "execution_count": 4,
   "id": "4b7936b3",
   "metadata": {},
   "outputs": [],
   "source": [
    "TRAIN_VER = '20220327'\n",
    "TEST_VER = '20220327'\n",
    "src_train_data = base_src_train_data + TRAIN_VER + '/'\n",
    "src_test_data = base_src_test_data + TEST_VER + '/test/'"
   ]
  },
  {
   "cell_type": "code",
   "execution_count": 5,
   "id": "75d9a760",
   "metadata": {},
   "outputs": [],
   "source": [
    "labels = range(0, 7)\n",
    "today_date = datetime.datetime.now().strftime(\"%Y%m%d\")\n",
    "base_dst_folder = 'D:/belajar/PA/dataset/[5-result]/'+today_date+'/'\n",
    "\n",
    "os.mkdir(base_dst_folder)"
   ]
  },
  {
   "cell_type": "code",
   "execution_count": 6,
   "id": "53094694",
   "metadata": {},
   "outputs": [],
   "source": [
    "dst_train = base_dst_folder + 'train/'\n",
    "dst_test = base_dst_folder + 'test/'"
   ]
  },
  {
   "cell_type": "code",
   "execution_count": 7,
   "id": "4e9d0c31",
   "metadata": {},
   "outputs": [],
   "source": [
    "for dst in [dst_train, dst_test]:\n",
    "    os.mkdir(dst)\n",
    "    for label in labels:\n",
    "        os.mkdir(dst+str(label))"
   ]
  },
  {
   "cell_type": "code",
   "execution_count": 8,
   "id": "6dc175b0",
   "metadata": {},
   "outputs": [],
   "source": [
    "def resize_img(src_path, dst_path):\n",
    "    for label in labels:\n",
    "        folder = src_path + str(label) + '/'\n",
    "        files = os.listdir(folder)\n",
    "        for file in files:\n",
    "            src = folder + file           \n",
    "            image = cv2.imread(src)\n",
    "#             image = cv2.cvtColor(image, cv2.COLOR_BGR2RGB)\n",
    "            img = cv2.resize(image, (128, 128), interpolation = cv2.INTER_AREA)\n",
    "            dst = dst_path + str(label) + '/' + file\n",
    "#             plt.imsave(dst, img)\n",
    "            cv2.imwrite(dst, img)\n",
    "    print(f'done resizing {src_path}')"
   ]
  },
  {
   "cell_type": "code",
   "execution_count": 9,
   "id": "9ebea4f6",
   "metadata": {},
   "outputs": [
    {
     "name": "stdout",
     "output_type": "stream",
     "text": [
      "done resizing D:/belajar/PA/dataset/[4-augmented]/20220327/\n",
      "done resizing D:/belajar/PA/dataset/[3-splitted]/20220327/test/\n"
     ]
    }
   ],
   "source": [
    "resize_img(src_train_data, dst_train)\n",
    "resize_img(src_test_data, dst_test)"
   ]
  },
  {
   "cell_type": "code",
   "execution_count": 10,
   "id": "ca16d10c",
   "metadata": {},
   "outputs": [
    {
     "name": "stdout",
     "output_type": "stream",
     "text": [
      "DONE!\n"
     ]
    }
   ],
   "source": [
    "print(\"DONE!\")"
   ]
  },
  {
   "cell_type": "code",
   "execution_count": null,
   "id": "1e0b8d84",
   "metadata": {},
   "outputs": [],
   "source": []
  },
  {
   "cell_type": "code",
   "execution_count": null,
   "id": "0303bdb6",
   "metadata": {},
   "outputs": [],
   "source": []
  }
 ],
 "metadata": {
  "kernelspec": {
   "display_name": "Python 3 (ipykernel)",
   "language": "python",
   "name": "python3"
  },
  "language_info": {
   "codemirror_mode": {
    "name": "ipython",
    "version": 3
   },
   "file_extension": ".py",
   "mimetype": "text/x-python",
   "name": "python",
   "nbconvert_exporter": "python",
   "pygments_lexer": "ipython3",
   "version": "3.8.0"
  }
 },
 "nbformat": 4,
 "nbformat_minor": 5
}
