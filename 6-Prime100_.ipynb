{
 "cells": [
  {
   "cell_type": "code",
   "execution_count": 23,
   "metadata": {
    "id": "nokwILBoboeC",
    "scrolled": true
   },
   "outputs": [],
   "source": [
    "# import tensorflow as tf\n",
    "from tensorflow.keras.models import load_model\n",
    "from tensorflow.keras import Input\n",
    "from tensorflow.keras.preprocessing.image import ImageDataGenerator\n",
    "from tensorflow.python.keras.models import Sequential\n",
    "from tensorflow.keras.callbacks import EarlyStopping\n",
    "from tensorflow.keras.layers import InputLayer, Conv2D, MaxPooling2D, Flatten, Dense, Dropout, GlobalAveragePooling2D, Activation, BatchNormalization, AveragePooling2D\n",
    "# from tensorflow.keras import Activations\n",
    "from tensorflow.keras.optimizers import Adam\n",
    "# from sklearn.metrics import confusion_matrix, classification_report\n",
    "# from google.colab import files\n",
    "from tensorflow.keras.preprocessing import image\n",
    "\n",
    "import pandas as pd\n",
    "import numpy as np\n",
    "import os\n",
    "import datetime\n",
    "from matplotlib import pyplot as plt\n",
    "import matplotlib.image as mpimg"
   ]
  },
  {
   "cell_type": "code",
   "execution_count": 2,
   "metadata": {},
   "outputs": [
    {
     "name": "stdout",
     "output_type": "stream",
     "text": [
      "[name: \"/device:CPU:0\"\n",
      "device_type: \"CPU\"\n",
      "memory_limit: 268435456\n",
      "locality {\n",
      "}\n",
      "incarnation: 5113109286572596094\n",
      ", name: \"/device:GPU:0\"\n",
      "device_type: \"GPU\"\n",
      "memory_limit: 1431034267\n",
      "locality {\n",
      "  bus_id: 1\n",
      "  links {\n",
      "  }\n",
      "}\n",
      "incarnation: 698995737355564908\n",
      "physical_device_desc: \"device: 0, name: NVIDIA GeForce MX130, pci bus id: 0000:01:00.0, compute capability: 5.0\"\n",
      "]\n"
     ]
    }
   ],
   "source": [
    "from tensorflow.python.client import device_lib\n",
    "print(device_lib.list_local_devices())"
   ]
  },
  {
   "cell_type": "code",
   "execution_count": 3,
   "metadata": {
    "colab": {
     "base_uri": "https://localhost:8080/"
    },
    "id": "3sf3kvuMnNL2",
    "outputId": "527f05b4-0ed3-4e8d-aa8d-88405074c602"
   },
   "outputs": [],
   "source": [
    "%matplotlib inline\n",
    "\n",
    "# from google.colab import drive\n",
    "# drive.mount('/content/gdrive')"
   ]
  },
  {
   "cell_type": "markdown",
   "metadata": {
    "id": "5034GUiye5Ob"
   },
   "source": [
    "0 angry\n",
    "1 disgust\n",
    "2 happy\n",
    "3 afraid\n",
    "4 sad\n",
    "5 surprise\n",
    "6 neutral"
   ]
  },
  {
   "cell_type": "code",
   "execution_count": 4,
   "metadata": {
    "colab": {
     "base_uri": "https://localhost:8080/"
    },
    "id": "c9PG9-BKdZ4q",
    "outputId": "12d7f3b5-7fac-4328-c317-796f0ec0d2de"
   },
   "outputs": [
    {
     "data": {
      "text/plain": [
       "['.git',\n",
       " '20220206',\n",
       " '20220301',\n",
       " '20220326',\n",
       " '20220326-1',\n",
       " '20220328',\n",
       " 'readme.txt']"
      ]
     },
     "execution_count": 4,
     "metadata": {},
     "output_type": "execute_result"
    }
   ],
   "source": [
    "base_path_data = 'D:/belajar/PA/dataset/[5-result]/'\n",
    "os.listdir(base_path_data)"
   ]
  },
  {
   "cell_type": "code",
   "execution_count": 43,
   "metadata": {
    "id": "spk1EU_Phaij"
   },
   "outputs": [],
   "source": [
    "# ISI DI SINI!\n",
    "PICKED_VERSION = '20220326-1'\n",
    "path_data = base_path_data + PICKED_VERSION + '/'\n",
    "labels=['0', '1', '2', '3', '4', '5', '6']"
   ]
  },
  {
   "cell_type": "code",
   "execution_count": 44,
   "metadata": {},
   "outputs": [
    {
     "data": {
      "text/plain": [
       "['1-20220206',\n",
       " '10-20220225',\n",
       " '11-20220227',\n",
       " '12-20220301',\n",
       " '13-20220301',\n",
       " '14-20220304',\n",
       " '15-20220317',\n",
       " '16-20220321',\n",
       " '17-20220322',\n",
       " '18-20220327',\n",
       " '19-20220328',\n",
       " '2-20220207',\n",
       " '20-20220328',\n",
       " '3-20220207',\n",
       " '4-20220214',\n",
       " '5-20220215',\n",
       " '6-20220215',\n",
       " '7-20220219',\n",
       " '8-20220219',\n",
       " '9-20220225',\n",
       " 'CONFUSION-MATRIX',\n",
       " 'Log SEMANGATT.xlsx',\n",
       " '~$Log SEMANGATT.xlsx']"
      ]
     },
     "execution_count": 44,
     "metadata": {},
     "output_type": "execute_result"
    }
   ],
   "source": [
    "base_log_path = 'D:/belajar/PA/dataset/_log/'\n",
    "os.listdir(base_log_path)"
   ]
  },
  {
   "cell_type": "code",
   "execution_count": 67,
   "metadata": {},
   "outputs": [],
   "source": [
    "LOG_VERSION = '22-20220328'\n",
    "log_path = base_log_path + LOG_VERSION + '/'\n",
    "os.mkdir(log_path)"
   ]
  },
  {
   "cell_type": "code",
   "execution_count": 68,
   "metadata": {
    "colab": {
     "base_uri": "https://localhost:8080/"
    },
    "id": "JisSp53jgJmK",
    "outputId": "d714176c-e511-43c4-fb6a-24c8f6074e49"
   },
   "outputs": [
    {
     "name": "stdout",
     "output_type": "stream",
     "text": [
      "Found 2037 images belonging to 7 classes.\n",
      "Found 510 images belonging to 7 classes.\n"
     ]
    }
   ],
   "source": [
    "datagen = ImageDataGenerator()\n",
    "\n",
    "train_generator = datagen.flow_from_directory(path_data+'train/',\n",
    "                                              target_size=(128, 128),\n",
    "                                              batch_size=16,\n",
    "                                              class_mode='categorical',\n",
    "                                              classes=labels,\n",
    "                                              )\n",
    "test_datagen = ImageDataGenerator()\n",
    "\n",
    "test_generator = test_datagen.flow_from_directory(path_data+'test/',\n",
    "                                              target_size=(128, 128),\n",
    "                                              batch_size=16,\n",
    "                                              class_mode='categorical',\n",
    "                                              classes=labels)"
   ]
  },
  {
   "cell_type": "code",
   "execution_count": null,
   "metadata": {
    "id": "3a6lr8Q9kQgC"
   },
   "outputs": [],
   "source": []
  },
  {
   "cell_type": "markdown",
   "metadata": {
    "id": "bvji3uxO5Ee5"
   },
   "source": [
    "# filter size itu harus ganjil biar optimal\n",
    "> 1x1 , 3x3, 5x5, 7x7\n",
    "klo lebih dari 128 filter_size nya (5x5)\n",
    "\n",
    "# biar training nya optimal pakai deep residual.\n",
    "Contoh : \n",
    "\n",
    "```\n",
    "conv2d_1,\n",
    "conv2d_2,\n",
    "relu_1,\n",
    "\n",
    "conv2d_3\n",
    "conv2d_4\n",
    "relu_2\n",
    "```\n",
    "\n",
    "\n",
    "\n",
    "intinya, layer conv nya dua baru ada satu activation function\n",
    "\n",
    "terus buat layer dense juga kayak gitu boleh\n",
    "padding nya tiap layer jadiin \"same\" dan stride dikasih stride (1,1) atau (2,2)\n",
    "kalau pake stride gak perlu max_pooling\n",
    "\n",
    "janlup, yang di augmentasi itu training set ajaloh\n",
    "kalau distribusi nya sama kan nanti overfitting"
   ]
  },
  {
   "cell_type": "code",
   "execution_count": 69,
   "metadata": {
    "id": "pcAxdklFRJ2D"
   },
   "outputs": [
    {
     "name": "stdout",
     "output_type": "stream",
     "text": [
      "WARNING:tensorflow:Please add `keras.layers.InputLayer` instead of `keras.Input` to Sequential model. `keras.Input` is intended to be used by Functional model.\n"
     ]
    }
   ],
   "source": [
    "model = Sequential([\n",
    "                Input(shape=(128,128, 3)),\n",
    "                Conv2D(128, kernel_size=(5, 5), strides=(2, 2)),\n",
    "                Conv2D(128, kernel_size=(5, 5), strides=(2, 2)),\n",
    "                Activation('relu'),\n",
    "                BatchNormalization(),\n",
    "    \n",
    "                Conv2D(64, kernel_size=(3, 3), strides=(2, 2)),\n",
    "                Conv2D(64, kernel_size=(3, 3), strides=(2, 2)),\n",
    "                Activation('relu'),\n",
    "                BatchNormalization(),\n",
    "    \n",
    "                Conv2D(64, kernel_size=(3, 3), strides=(1, 1)),\n",
    "                Conv2D(64, kernel_size=(3, 3), strides=(1, 1)),\n",
    "                Activation('relu'),\n",
    "                BatchNormalization(),\n",
    "\n",
    "                Flatten(),\n",
    "\n",
    "                Dense(128, kernel_initializer='glorot_normal'),\n",
    "                Activation('relu'),\n",
    "#                 Dropout(0.2),\n",
    "                Dense(64, kernel_initializer='glorot_normal'),\n",
    "                Activation('relu'),\n",
    "                Dense(7, activation='softmax')\n",
    "    ])\n"
   ]
  },
  {
   "cell_type": "code",
   "execution_count": 70,
   "metadata": {
    "id": "tnHJN0xfkUtq"
   },
   "outputs": [],
   "source": [
    "# model = Sequential([\n",
    "#                 tf.keras.Input(shape=(128,128,3)),\n",
    "#                 Conv2D(128, kernel_size=(5, 5), strides=(2, 2)),\n",
    "#                 Activation('relu'),\n",
    "\n",
    "#                 Conv2D(128, kernel_size=(3, 3), strides=(2, 2)),\n",
    "#                 Activation('relu'),\n",
    "\n",
    "#                 Conv2D(64, kernel_size=(3, 3), strides=(2, 2)),\n",
    "#                 Activation('relu'),\n",
    "\n",
    "#                 Conv2D(64, kernel_size=(3, 3), strides=(2, 2)),\n",
    "#                 Activation('relu'),\n",
    "\n",
    "#                 Conv2D(64, kernel_size=(1, 1), strides=(1, 1)),\n",
    "#                 Conv2D(64, kernel_size=(1, 1), strides=(1, 1)),\n",
    "#                 Activation('relu'),\n",
    "\n",
    "#                 # Dropout(0.7),\n",
    "#                 Flatten(),\n",
    "#                 Dense(128, kernel_initializer='glorot_normal'),\n",
    "#                 Dense(128, kernel_initializer='glorot_normal'),\n",
    "#                 Activation('relu'),\n",
    "\n",
    "#                 Dense(128, kernel_initializer='glorot_normal'),\n",
    "#                 Dense(64, kernel_initializer='glorot_normal'),\n",
    "#                 Activation('relu'),\n",
    "\n",
    "#                 Dense(64, kernel_initializer='glorot_normal'),\n",
    "#                 Activation('relu'),\n",
    "\n",
    "#                 Dense(64, kernel_initializer='glorot_normal'),\n",
    "#                 Dense(64, kernel_initializer='glorot_normal'),\n",
    "#                 Activation('relu'),\n",
    "#                 Dense(7, activation='softmax')\n",
    "#     ])\n"
   ]
  },
  {
   "cell_type": "code",
   "execution_count": 71,
   "metadata": {
    "colab": {
     "base_uri": "https://localhost:8080/"
    },
    "id": "Y9-5G4Yald8m",
    "outputId": "d294ab54-8045-461f-be4d-bbfc192b96c1"
   },
   "outputs": [
    {
     "name": "stdout",
     "output_type": "stream",
     "text": [
      "Model: \"sequential_5\"\n",
      "_________________________________________________________________\n",
      "Layer (type)                 Output Shape              Param #   \n",
      "=================================================================\n",
      "conv2d_30 (Conv2D)           (None, 62, 62, 128)       9728      \n",
      "_________________________________________________________________\n",
      "conv2d_31 (Conv2D)           (None, 29, 29, 128)       409728    \n",
      "_________________________________________________________________\n",
      "activation_25 (Activation)   (None, 29, 29, 128)       0         \n",
      "_________________________________________________________________\n",
      "batch_normalization_15 (Batc (None, 29, 29, 128)       512       \n",
      "_________________________________________________________________\n",
      "conv2d_32 (Conv2D)           (None, 14, 14, 64)        73792     \n",
      "_________________________________________________________________\n",
      "conv2d_33 (Conv2D)           (None, 6, 6, 64)          36928     \n",
      "_________________________________________________________________\n",
      "activation_26 (Activation)   (None, 6, 6, 64)          0         \n",
      "_________________________________________________________________\n",
      "batch_normalization_16 (Batc (None, 6, 6, 64)          256       \n",
      "_________________________________________________________________\n",
      "conv2d_34 (Conv2D)           (None, 4, 4, 64)          36928     \n",
      "_________________________________________________________________\n",
      "conv2d_35 (Conv2D)           (None, 2, 2, 64)          36928     \n",
      "_________________________________________________________________\n",
      "activation_27 (Activation)   (None, 2, 2, 64)          0         \n",
      "_________________________________________________________________\n",
      "batch_normalization_17 (Batc (None, 2, 2, 64)          256       \n",
      "_________________________________________________________________\n",
      "flatten_5 (Flatten)          (None, 256)               0         \n",
      "_________________________________________________________________\n",
      "dense_15 (Dense)             (None, 128)               32896     \n",
      "_________________________________________________________________\n",
      "activation_28 (Activation)   (None, 128)               0         \n",
      "_________________________________________________________________\n",
      "dense_16 (Dense)             (None, 64)                8256      \n",
      "_________________________________________________________________\n",
      "activation_29 (Activation)   (None, 64)                0         \n",
      "_________________________________________________________________\n",
      "dense_17 (Dense)             (None, 7)                 455       \n",
      "=================================================================\n",
      "Total params: 646,663\n",
      "Trainable params: 646,151\n",
      "Non-trainable params: 512\n",
      "_________________________________________________________________\n"
     ]
    }
   ],
   "source": [
    "model.summary()"
   ]
  },
  {
   "cell_type": "code",
   "execution_count": 72,
   "metadata": {
    "id": "H3IXNm3fwLJZ"
   },
   "outputs": [],
   "source": [
    "### compile model\n",
    "model.compile(loss='categorical_crossentropy',\n",
    "              optimizer=Adam(learning_rate=0.0001),\n",
    "              metrics=['accuracy'])\n",
    "\n",
    "callback = EarlyStopping(monitor='accuracy', patience=5, mode='max')"
   ]
  },
  {
   "cell_type": "code",
   "execution_count": 73,
   "metadata": {},
   "outputs": [],
   "source": [
    "import PIL\n",
    "import PIL.Image"
   ]
  },
  {
   "cell_type": "code",
   "execution_count": 74,
   "metadata": {
    "colab": {
     "base_uri": "https://localhost:8080/"
    },
    "id": "iVJRGDiHyvsn",
    "outputId": "97ec4937-5d4d-45a5-c39e-77ab00a85d70",
    "scrolled": true
   },
   "outputs": [
    {
     "name": "stdout",
     "output_type": "stream",
     "text": [
      "Epoch 1/30\n",
      "128/128 [==============================] - 21s 154ms/step - loss: 1.9478 - accuracy: 0.2135 - val_loss: 2.2472 - val_accuracy: 0.1836\n",
      "Epoch 2/30\n",
      "128/128 [==============================] - 30s 231ms/step - loss: 1.6056 - accuracy: 0.3854 - val_loss: 1.7665 - val_accuracy: 0.3398\n",
      "Epoch 3/30\n",
      "128/128 [==============================] - 34s 263ms/step - loss: 1.3587 - accuracy: 0.4875 - val_loss: 1.6731 - val_accuracy: 0.3555\n",
      "Epoch 4/30\n",
      "128/128 [==============================] - 38s 295ms/step - loss: 1.1482 - accuracy: 0.5832 - val_loss: 1.4028 - val_accuracy: 0.5117\n",
      "Epoch 5/30\n",
      "128/128 [==============================] - 37s 286ms/step - loss: 1.0106 - accuracy: 0.6485 - val_loss: 1.4014 - val_accuracy: 0.4219\n",
      "Epoch 6/30\n",
      "128/128 [==============================] - 43s 333ms/step - loss: 0.8533 - accuracy: 0.6991 - val_loss: 1.4460 - val_accuracy: 0.4531\n",
      "Epoch 7/30\n",
      "128/128 [==============================] - 39s 309ms/step - loss: 0.7252 - accuracy: 0.7771 - val_loss: 1.0563 - val_accuracy: 0.6211\n",
      "Epoch 8/30\n",
      "128/128 [==============================] - 50s 393ms/step - loss: 0.6374 - accuracy: 0.7953 - val_loss: 1.1419 - val_accuracy: 0.5586\n",
      "Epoch 9/30\n",
      "128/128 [==============================] - 46s 357ms/step - loss: 0.5533 - accuracy: 0.8213 - val_loss: 0.9970 - val_accuracy: 0.6250\n",
      "Epoch 10/30\n",
      "128/128 [==============================] - 56s 440ms/step - loss: 0.4807 - accuracy: 0.8645 - val_loss: 0.9810 - val_accuracy: 0.6562\n",
      "Epoch 11/30\n",
      "128/128 [==============================] - 58s 450ms/step - loss: 0.3751 - accuracy: 0.8974 - val_loss: 0.9475 - val_accuracy: 0.6211\n",
      "Epoch 12/30\n",
      "128/128 [==============================] - 64s 503ms/step - loss: 0.3273 - accuracy: 0.9107 - val_loss: 0.9658 - val_accuracy: 0.6523\n",
      "Epoch 13/30\n",
      "128/128 [==============================] - 64s 503ms/step - loss: 0.2588 - accuracy: 0.9416 - val_loss: 0.9291 - val_accuracy: 0.6523\n",
      "Epoch 14/30\n",
      "128/128 [==============================] - 64s 503ms/step - loss: 0.2041 - accuracy: 0.9568 - val_loss: 0.8895 - val_accuracy: 0.6992\n",
      "Epoch 15/30\n",
      "128/128 [==============================] - 65s 505ms/step - loss: 0.1591 - accuracy: 0.9730 - val_loss: 0.8559 - val_accuracy: 0.7070\n",
      "Epoch 16/30\n",
      "128/128 [==============================] - 64s 503ms/step - loss: 0.1209 - accuracy: 0.9853 - val_loss: 0.9926 - val_accuracy: 0.6602\n",
      "Epoch 17/30\n",
      "128/128 [==============================] - 64s 503ms/step - loss: 0.0875 - accuracy: 0.9921 - val_loss: 1.0703 - val_accuracy: 0.6445\n",
      "Epoch 18/30\n",
      "128/128 [==============================] - 65s 504ms/step - loss: 0.0656 - accuracy: 0.9961 - val_loss: 1.0151 - val_accuracy: 0.6719\n",
      "Epoch 19/30\n",
      "128/128 [==============================] - 64s 503ms/step - loss: 0.0458 - accuracy: 0.9985 - val_loss: 0.8497 - val_accuracy: 0.7109\n",
      "Epoch 20/30\n",
      "128/128 [==============================] - 64s 503ms/step - loss: 0.0490 - accuracy: 0.9985 - val_loss: 1.1295 - val_accuracy: 0.6562\n",
      "Epoch 21/30\n",
      "128/128 [==============================] - 64s 504ms/step - loss: 0.0465 - accuracy: 0.9975 - val_loss: 0.9341 - val_accuracy: 0.6953\n",
      "Epoch 22/30\n",
      "128/128 [==============================] - 64s 503ms/step - loss: 0.0298 - accuracy: 0.9995 - val_loss: 1.1112 - val_accuracy: 0.6719\n",
      "Epoch 23/30\n",
      "128/128 [==============================] - 64s 504ms/step - loss: 0.0207 - accuracy: 1.0000 - val_loss: 1.1607 - val_accuracy: 0.6367\n",
      "Epoch 24/30\n",
      "128/128 [==============================] - 64s 497ms/step - loss: 0.0183 - accuracy: 0.9990 - val_loss: 1.1913 - val_accuracy: 0.6250\n",
      "Epoch 25/30\n",
      "128/128 [==============================] - 65s 505ms/step - loss: 0.0470 - accuracy: 0.9926 - val_loss: 1.6661 - val_accuracy: 0.6172\n",
      "Epoch 26/30\n",
      "128/128 [==============================] - 65s 507ms/step - loss: 0.0478 - accuracy: 0.9931 - val_loss: 1.2344 - val_accuracy: 0.6602\n",
      "Epoch 27/30\n",
      "128/128 [==============================] - 65s 505ms/step - loss: 0.0525 - accuracy: 0.9912 - val_loss: 1.6120 - val_accuracy: 0.6094\n",
      "Epoch 28/30\n",
      "128/128 [==============================] - 64s 503ms/step - loss: 0.0776 - accuracy: 0.9813 - val_loss: 1.2272 - val_accuracy: 0.7109\n",
      "Epoch 29/30\n",
      "128/128 [==============================] - 65s 505ms/step - loss: 0.0621 - accuracy: 0.9853 - val_loss: 1.3860 - val_accuracy: 0.6289\n",
      "Epoch 30/30\n",
      "128/128 [==============================] - 65s 505ms/step - loss: 0.0912 - accuracy: 0.9774 - val_loss: 1.2328 - val_accuracy: 0.6328\n"
     ]
    }
   ],
   "source": [
    "history = model.fit(train_generator, validation_data=test_generator, batch_size=16, epochs=30, validation_steps=16)"
   ]
  },
  {
   "cell_type": "code",
   "execution_count": 75,
   "metadata": {
    "colab": {
     "base_uri": "https://localhost:8080/"
    },
    "id": "xVobWKntkz2D",
    "outputId": "9a585a03-7ced-46f2-bfea-1dc7d13b1a95"
   },
   "outputs": [
    {
     "name": "stdout",
     "output_type": "stream",
     "text": [
      "INFO:tensorflow:Assets written to: D:/belajar/PA/dataset/_log/22-20220328/model\\assets\n"
     ]
    }
   ],
   "source": [
    "model.save(log_path+'model')"
   ]
  },
  {
   "cell_type": "code",
   "execution_count": 76,
   "metadata": {
    "colab": {
     "base_uri": "https://localhost:8080/",
     "height": 294
    },
    "id": "9CYEZfhvlwVi",
    "outputId": "d8d82d7b-f4fc-4262-ab7a-648d1bebe32c"
   },
   "outputs": [
    {
     "data": {
      "image/png": "[encoded data removed]",
      "text/plain": [
       "<Figure size 432x288 with 1 Axes>"
      ]
     },
     "metadata": {},
     "output_type": "display_data"
    }
   ],
   "source": [
    "### plotting ringkasan dari proses learning/fit\n",
    "plt.plot(history.history['accuracy'])\n",
    "plt.plot(history.history['val_accuracy'])\n",
    "\n",
    "plt.title('model accuracy')\n",
    "plt.ylabel('accuracy')\n",
    "plt.xlabel('epoch')\n",
    "plt.legend(['train_accuracy', 'val_accuracy'])\n",
    "plt.savefig(log_path+'m_acc.png')\n",
    "plt.show()\n"
   ]
  },
  {
   "cell_type": "code",
   "execution_count": 77,
   "metadata": {
    "colab": {
     "base_uri": "https://localhost:8080/",
     "height": 294
    },
    "id": "qvD40evl7DEJ",
    "outputId": "3c6c6647-e7e2-4350-dd3c-fbc2c7fc996d"
   },
   "outputs": [
    {
     "data": {
      "image/png": "[encoded data removed]",
      "text/plain": [
       "<Figure size 432x288 with 1 Axes>"
      ]
     },
     "metadata": {},
     "output_type": "display_data"
    }
   ],
   "source": [
    "### plotting ringkasan dari proses learning/fit\n",
    "plt.plot(history.history['loss'])\n",
    "plt.plot(history.history['val_loss'])\n",
    "\n",
    "plt.title('model loss')\n",
    "plt.ylabel('loss')\n",
    "plt.xlabel('epoch')\n",
    "plt.legend(['train_loss', 'val_loss'])\n",
    "plt.savefig(log_path+'m_loss.png')\n",
    "plt.show()"
   ]
  },
  {
   "cell_type": "code",
   "execution_count": 78,
   "metadata": {},
   "outputs": [],
   "source": [
    "import pandas as pd\n",
    "df = pd.DataFrame(history.history)\n",
    "\n",
    "df.to_csv(log_path+'history.csv', index=False)"
   ]
  },
  {
   "cell_type": "code",
   "execution_count": 79,
   "metadata": {},
   "outputs": [
    {
     "data": {
      "text/plain": [
       "'{\"class_name\": \"Sequential\", \"config\": {\"name\": \"sequential_5\", \"layers\": [{\"class_name\": \"InputLayer\", \"config\": {\"batch_input_shape\": [null, 128, 128, 3], \"dtype\": \"float32\", \"sparse\": false, \"ragged\": false, \"name\": \"input_6\"}}, {\"class_name\": \"Conv2D\", \"config\": {\"name\": \"conv2d_30\", \"trainable\": true, \"dtype\": \"float32\", \"filters\": 128, \"kernel_size\": [5, 5], \"strides\": [2, 2], \"padding\": \"valid\", \"data_format\": \"channels_last\", \"dilation_rate\": [1, 1], \"groups\": 1, \"activation\": \"linear\", \"use_bias\": true, \"kernel_initializer\": {\"class_name\": \"GlorotUniform\", \"config\": {\"seed\": null}}, \"bias_initializer\": {\"class_name\": \"Zeros\", \"config\": {}}, \"kernel_regularizer\": null, \"bias_regularizer\": null, \"activity_regularizer\": null, \"kernel_constraint\": null, \"bias_constraint\": null}}, {\"class_name\": \"Conv2D\", \"config\": {\"name\": \"conv2d_31\", \"trainable\": true, \"dtype\": \"float32\", \"filters\": 128, \"kernel_size\": [5, 5], \"strides\": [2, 2], \"padding\": \"valid\", \"data_format\": \"channels_last\", \"dilation_rate\": [1, 1], \"groups\": 1, \"activation\": \"linear\", \"use_bias\": true, \"kernel_initializer\": {\"class_name\": \"GlorotUniform\", \"config\": {\"seed\": null}}, \"bias_initializer\": {\"class_name\": \"Zeros\", \"config\": {}}, \"kernel_regularizer\": null, \"bias_regularizer\": null, \"activity_regularizer\": null, \"kernel_constraint\": null, \"bias_constraint\": null}}, {\"class_name\": \"Activation\", \"config\": {\"name\": \"activation_25\", \"trainable\": true, \"dtype\": \"float32\", \"activation\": \"relu\"}}, {\"class_name\": \"BatchNormalization\", \"config\": {\"name\": \"batch_normalization_15\", \"trainable\": true, \"dtype\": \"float32\", \"axis\": [3], \"momentum\": 0.99, \"epsilon\": 0.001, \"center\": true, \"scale\": true, \"beta_initializer\": {\"class_name\": \"Zeros\", \"config\": {}}, \"gamma_initializer\": {\"class_name\": \"Ones\", \"config\": {}}, \"moving_mean_initializer\": {\"class_name\": \"Zeros\", \"config\": {}}, \"moving_variance_initializer\": {\"class_name\": \"Ones\", \"config\": {}}, \"beta_regularizer\": null, \"gamma_regularizer\": null, \"beta_constraint\": null, \"gamma_constraint\": null}}, {\"class_name\": \"Conv2D\", \"config\": {\"name\": \"conv2d_32\", \"trainable\": true, \"dtype\": \"float32\", \"filters\": 64, \"kernel_size\": [3, 3], \"strides\": [2, 2], \"padding\": \"valid\", \"data_format\": \"channels_last\", \"dilation_rate\": [1, 1], \"groups\": 1, \"activation\": \"linear\", \"use_bias\": true, \"kernel_initializer\": {\"class_name\": \"GlorotUniform\", \"config\": {\"seed\": null}}, \"bias_initializer\": {\"class_name\": \"Zeros\", \"config\": {}}, \"kernel_regularizer\": null, \"bias_regularizer\": null, \"activity_regularizer\": null, \"kernel_constraint\": null, \"bias_constraint\": null}}, {\"class_name\": \"Conv2D\", \"config\": {\"name\": \"conv2d_33\", \"trainable\": true, \"dtype\": \"float32\", \"filters\": 64, \"kernel_size\": [3, 3], \"strides\": [2, 2], \"padding\": \"valid\", \"data_format\": \"channels_last\", \"dilation_rate\": [1, 1], \"groups\": 1, \"activation\": \"linear\", \"use_bias\": true, \"kernel_initializer\": {\"class_name\": \"GlorotUniform\", \"config\": {\"seed\": null}}, \"bias_initializer\": {\"class_name\": \"Zeros\", \"config\": {}}, \"kernel_regularizer\": null, \"bias_regularizer\": null, \"activity_regularizer\": null, \"kernel_constraint\": null, \"bias_constraint\": null}}, {\"class_name\": \"Activation\", \"config\": {\"name\": \"activation_26\", \"trainable\": true, \"dtype\": \"float32\", \"activation\": \"relu\"}}, {\"class_name\": \"BatchNormalization\", \"config\": {\"name\": \"batch_normalization_16\", \"trainable\": true, \"dtype\": \"float32\", \"axis\": [3], \"momentum\": 0.99, \"epsilon\": 0.001, \"center\": true, \"scale\": true, \"beta_initializer\": {\"class_name\": \"Zeros\", \"config\": {}}, \"gamma_initializer\": {\"class_name\": \"Ones\", \"config\": {}}, \"moving_mean_initializer\": {\"class_name\": \"Zeros\", \"config\": {}}, \"moving_variance_initializer\": {\"class_name\": \"Ones\", \"config\": {}}, \"beta_regularizer\": null, \"gamma_regularizer\": null, \"beta_constraint\": null, \"gamma_constraint\": null}}, {\"class_name\": \"Conv2D\", \"config\": {\"name\": \"conv2d_34\", \"trainable\": true, \"dtype\": \"float32\", \"filters\": 64, \"kernel_size\": [3, 3], \"strides\": [1, 1], \"padding\": \"valid\", \"data_format\": \"channels_last\", \"dilation_rate\": [1, 1], \"groups\": 1, \"activation\": \"linear\", \"use_bias\": true, \"kernel_initializer\": {\"class_name\": \"GlorotUniform\", \"config\": {\"seed\": null}}, \"bias_initializer\": {\"class_name\": \"Zeros\", \"config\": {}}, \"kernel_regularizer\": null, \"bias_regularizer\": null, \"activity_regularizer\": null, \"kernel_constraint\": null, \"bias_constraint\": null}}, {\"class_name\": \"Conv2D\", \"config\": {\"name\": \"conv2d_35\", \"trainable\": true, \"dtype\": \"float32\", \"filters\": 64, \"kernel_size\": [3, 3], \"strides\": [1, 1], \"padding\": \"valid\", \"data_format\": \"channels_last\", \"dilation_rate\": [1, 1], \"groups\": 1, \"activation\": \"linear\", \"use_bias\": true, \"kernel_initializer\": {\"class_name\": \"GlorotUniform\", \"config\": {\"seed\": null}}, \"bias_initializer\": {\"class_name\": \"Zeros\", \"config\": {}}, \"kernel_regularizer\": null, \"bias_regularizer\": null, \"activity_regularizer\": null, \"kernel_constraint\": null, \"bias_constraint\": null}}, {\"class_name\": \"Activation\", \"config\": {\"name\": \"activation_27\", \"trainable\": true, \"dtype\": \"float32\", \"activation\": \"relu\"}}, {\"class_name\": \"BatchNormalization\", \"config\": {\"name\": \"batch_normalization_17\", \"trainable\": true, \"dtype\": \"float32\", \"axis\": [3], \"momentum\": 0.99, \"epsilon\": 0.001, \"center\": true, \"scale\": true, \"beta_initializer\": {\"class_name\": \"Zeros\", \"config\": {}}, \"gamma_initializer\": {\"class_name\": \"Ones\", \"config\": {}}, \"moving_mean_initializer\": {\"class_name\": \"Zeros\", \"config\": {}}, \"moving_variance_initializer\": {\"class_name\": \"Ones\", \"config\": {}}, \"beta_regularizer\": null, \"gamma_regularizer\": null, \"beta_constraint\": null, \"gamma_constraint\": null}}, {\"class_name\": \"Flatten\", \"config\": {\"name\": \"flatten_5\", \"trainable\": true, \"dtype\": \"float32\", \"data_format\": \"channels_last\"}}, {\"class_name\": \"Dense\", \"config\": {\"name\": \"dense_15\", \"trainable\": true, \"dtype\": \"float32\", \"units\": 128, \"activation\": \"linear\", \"use_bias\": true, \"kernel_initializer\": {\"class_name\": \"GlorotNormal\", \"config\": {\"seed\": null}}, \"bias_initializer\": {\"class_name\": \"Zeros\", \"config\": {}}, \"kernel_regularizer\": null, \"bias_regularizer\": null, \"activity_regularizer\": null, \"kernel_constraint\": null, \"bias_constraint\": null}}, {\"class_name\": \"Activation\", \"config\": {\"name\": \"activation_28\", \"trainable\": true, \"dtype\": \"float32\", \"activation\": \"relu\"}}, {\"class_name\": \"Dense\", \"config\": {\"name\": \"dense_16\", \"trainable\": true, \"dtype\": \"float32\", \"units\": 64, \"activation\": \"linear\", \"use_bias\": true, \"kernel_initializer\": {\"class_name\": \"GlorotNormal\", \"config\": {\"seed\": null}}, \"bias_initializer\": {\"class_name\": \"Zeros\", \"config\": {}}, \"kernel_regularizer\": null, \"bias_regularizer\": null, \"activity_regularizer\": null, \"kernel_constraint\": null, \"bias_constraint\": null}}, {\"class_name\": \"Activation\", \"config\": {\"name\": \"activation_29\", \"trainable\": true, \"dtype\": \"float32\", \"activation\": \"relu\"}}, {\"class_name\": \"Dense\", \"config\": {\"name\": \"dense_17\", \"trainable\": true, \"dtype\": \"float32\", \"units\": 7, \"activation\": \"softmax\", \"use_bias\": true, \"kernel_initializer\": {\"class_name\": \"GlorotUniform\", \"config\": {\"seed\": null}}, \"bias_initializer\": {\"class_name\": \"Zeros\", \"config\": {}}, \"kernel_regularizer\": null, \"bias_regularizer\": null, \"activity_regularizer\": null, \"kernel_constraint\": null, \"bias_constraint\": null}}]}, \"keras_version\": \"2.6.0\", \"backend\": \"tensorflow\"}'"
      ]
     },
     "execution_count": 79,
     "metadata": {},
     "output_type": "execute_result"
    }
   ],
   "source": [
    "model.to_json()"
   ]
  },
  {
   "cell_type": "markdown",
   "metadata": {},
   "source": [
    "# LOAD SAVED MODEL"
   ]
  },
  {
   "cell_type": "code",
   "execution_count": null,
   "metadata": {},
   "outputs": [],
   "source": [
    "from tensorflow.keras.models import load_model"
   ]
  },
  {
   "cell_type": "code",
   "execution_count": null,
   "metadata": {},
   "outputs": [],
   "source": [
    "model = load_model(log_path+'model')"
   ]
  },
  {
   "cell_type": "markdown",
   "metadata": {
    "id": "45uK1Jk6yffC"
   },
   "source": [
    "# load data"
   ]
  },
  {
   "cell_type": "code",
   "execution_count": 80,
   "metadata": {},
   "outputs": [],
   "source": [
    "import seaborn as sns; sns.set_theme()\n",
    "from numpy import unravel_index\n",
    "# from sklearn.metrics import confusion_matrix"
   ]
  },
  {
   "cell_type": "code",
   "execution_count": 81,
   "metadata": {},
   "outputs": [],
   "source": [
    "result = model.predict(test_generator)"
   ]
  },
  {
   "cell_type": "code",
   "execution_count": 82,
   "metadata": {},
   "outputs": [
    {
     "data": {
      "text/plain": [
       "array([0, 0, 0, 0, 0, 0, 0, 0, 0, 0, 0, 0, 0, 0, 0, 0, 0, 0, 0, 0, 0, 0,\n",
       "       0, 0, 0, 0, 0, 0, 0, 0, 0, 0, 0, 0, 0, 0, 0, 0, 0, 0, 0, 0, 0, 0,\n",
       "       0, 0, 0, 0, 0, 0, 0, 0, 0, 0, 0, 0, 0, 0, 0, 0, 0, 0, 0, 0, 0, 0,\n",
       "       0, 0, 0, 0, 0, 0, 0, 0, 0, 0, 0, 1, 1, 1, 1, 1, 1, 1, 1, 1, 1, 1,\n",
       "       1, 1, 1, 1, 1, 1, 1, 1, 1, 1, 1, 1, 1, 1, 1, 1, 1, 1, 1, 1, 1, 1,\n",
       "       1, 1, 1, 1, 1, 1, 1, 1, 1, 1, 1, 1, 1, 1, 1, 1, 1, 1, 1, 1, 1, 1,\n",
       "       1, 1, 1, 1, 1, 1, 1, 1, 1, 1, 1, 1, 1, 1, 1, 1, 1, 1, 1, 1, 1, 1,\n",
       "       1, 1, 1, 1, 2, 2, 2, 2, 2, 2, 2, 2, 2, 2, 2, 2, 2, 2, 2, 2, 2, 2,\n",
       "       2, 2, 2, 2, 2, 2, 2, 2, 2, 2, 2, 2, 2, 2, 2, 2, 2, 2, 2, 2, 2, 2,\n",
       "       2, 2, 2, 2, 2, 2, 2, 2, 2, 2, 2, 2, 2, 2, 2, 2, 2, 2, 2, 2, 2, 2,\n",
       "       2, 2, 2, 2, 2, 2, 2, 2, 2, 2, 2, 2, 2, 2, 2, 2, 2, 2, 2, 2, 3, 3,\n",
       "       3, 3, 3, 3, 3, 3, 3, 3, 3, 3, 3, 3, 3, 3, 3, 3, 3, 3, 3, 3, 3, 3,\n",
       "       3, 3, 3, 3, 3, 3, 3, 3, 3, 3, 3, 3, 3, 3, 3, 3, 3, 3, 3, 3, 3, 3,\n",
       "       3, 3, 3, 3, 3, 3, 3, 3, 3, 3, 3, 3, 3, 3, 3, 3, 3, 3, 3, 3, 3, 3,\n",
       "       3, 3, 3, 4, 4, 4, 4, 4, 4, 4, 4, 4, 4, 4, 4, 4, 4, 4, 4, 4, 4, 4,\n",
       "       4, 4, 4, 4, 4, 4, 4, 4, 4, 4, 4, 4, 4, 4, 4, 4, 4, 4, 4, 4, 4, 4,\n",
       "       4, 4, 4, 4, 4, 4, 4, 4, 4, 4, 4, 4, 4, 4, 4, 4, 4, 4, 4, 4, 4, 4,\n",
       "       4, 4, 4, 4, 4, 4, 4, 4, 4, 5, 5, 5, 5, 5, 5, 5, 5, 5, 5, 5, 5, 5,\n",
       "       5, 5, 5, 5, 5, 5, 5, 5, 5, 5, 5, 5, 5, 5, 5, 5, 5, 5, 5, 5, 5, 5,\n",
       "       5, 5, 5, 5, 5, 5, 5, 5, 5, 5, 5, 5, 5, 5, 5, 5, 5, 5, 6, 6, 6, 6,\n",
       "       6, 6, 6, 6, 6, 6, 6, 6, 6, 6, 6, 6, 6, 6, 6, 6, 6, 6, 6, 6, 6, 6,\n",
       "       6, 6, 6, 6, 6, 6, 6, 6, 6, 6, 6, 6, 6, 6, 6, 6, 6, 6, 6, 6, 6, 6,\n",
       "       6, 6, 6, 6, 6, 6, 6, 6, 6, 6, 6, 6, 6, 6, 6, 6, 6, 6, 6, 6, 6, 6,\n",
       "       6, 6, 6, 6])"
      ]
     },
     "execution_count": 82,
     "metadata": {},
     "output_type": "execute_result"
    }
   ],
   "source": [
    "test_generator.classes"
   ]
  },
  {
   "cell_type": "code",
   "execution_count": 83,
   "metadata": {},
   "outputs": [],
   "source": [
    "# import csv\n",
    "# def write_csv(data, file_name):\n",
    "#     with open(file_name, 'w') as f:\n",
    "\n",
    "#         # using csv.writer method from CSV package\n",
    "#         write = csv.writer(f)\n",
    "#         write.writerows(data)"
   ]
  },
  {
   "cell_type": "code",
   "execution_count": 84,
   "metadata": {},
   "outputs": [],
   "source": [
    "normed_res = np.argmax(result, axis=1)"
   ]
  },
  {
   "cell_type": "code",
   "execution_count": 85,
   "metadata": {},
   "outputs": [
    {
     "data": {
      "text/plain": [
       "array([[3.2191499e-04, 1.1563840e-07, 3.4833229e-05, ..., 1.6799787e-04,\n",
       "        5.3429884e-01, 2.8809611e-04],\n",
       "       [1.0277606e-02, 4.2154195e-05, 1.0141582e-02, ..., 1.6414279e-01,\n",
       "        1.4568031e-03, 2.6052754e-05],\n",
       "       [8.0757629e-05, 9.9864370e-01, 4.9818238e-05, ..., 1.2169786e-03,\n",
       "        1.3470287e-09, 2.4429241e-06],\n",
       "       ...,\n",
       "       [3.0693194e-05, 2.8976618e-04, 2.8018123e-05, ..., 1.8665643e-05,\n",
       "        3.4290373e-01, 2.0909514e-02],\n",
       "       [3.3454563e-07, 2.3453044e-06, 2.8119201e-05, ..., 7.5756361e-05,\n",
       "        9.8474938e-01, 1.0251731e-04],\n",
       "       [6.4168483e-02, 2.5228042e-06, 1.2455180e-02, ..., 4.5510015e-04,\n",
       "        1.8319495e-02, 1.2382312e-03]], dtype=float32)"
      ]
     },
     "execution_count": 85,
     "metadata": {},
     "output_type": "execute_result"
    }
   ],
   "source": [
    "result"
   ]
  },
  {
   "cell_type": "code",
   "execution_count": 86,
   "metadata": {},
   "outputs": [],
   "source": [
    "np.savetxt(log_path +\"actual_label.csv\", test_generator.classes.astype(np.uint8), delimiter=\",\")\n",
    "np.savetxt(log_path +\"predict_label.csv\", result, delimiter=\",\")\n",
    "np.savetxt(log_path +\"use_predict_label.csv\", normed_res, delimiter=\",\")"
   ]
  },
  {
   "cell_type": "code",
   "execution_count": null,
   "metadata": {},
   "outputs": [],
   "source": [
    "# confusion_matrix(normed_res, test_generator.classes)"
   ]
  },
  {
   "cell_type": "code",
   "execution_count": null,
   "metadata": {},
   "outputs": [],
   "source": [
    "# ax = sns.heatmap(normed_res, yticklabels=False)"
   ]
  },
  {
   "cell_type": "code",
   "execution_count": null,
   "metadata": {},
   "outputs": [],
   "source": []
  },
  {
   "cell_type": "code",
   "execution_count": null,
   "metadata": {
    "id": "hqnsWIFZydrv"
   },
   "outputs": [],
   "source": [
    "# model = load_model(path_data + 'model')\n",
    "\n",
    "# def predict_emotion(img):\n",
    "#     predictions = model.predict(img)\n",
    "#     return predictions"
   ]
  },
  {
   "cell_type": "code",
   "execution_count": null,
   "metadata": {
    "colab": {
     "base_uri": "https://localhost:8080/"
    },
    "id": "ueAEKwVpz2kJ",
    "outputId": "9307fc33-3b34-4f6a-9f3f-2c61e424dfa8"
   },
   "outputs": [],
   "source": [
    "# print(path_data+'augmented-data/test/11202118-2-warkop-dki_pic_0000_22.9 1_faces.jpg')"
   ]
  },
  {
   "cell_type": "code",
   "execution_count": null,
   "metadata": {
    "id": "FGe4JXWazWQC"
   },
   "outputs": [],
   "source": [
    "# img = cv2.imread(path_data+'augmented-data/test/11202118-2-warkop-dki_pic_0000_22.9 1_faces.jpg')"
   ]
  },
  {
   "cell_type": "code",
   "execution_count": null,
   "metadata": {
    "colab": {
     "base_uri": "https://localhost:8080/"
    },
    "id": "DXZa4DsgzueR",
    "outputId": "4b670b81-09ea-436d-9959-6cbd40e4d346"
   },
   "outputs": [],
   "source": [
    "# print(img)"
   ]
  },
  {
   "cell_type": "code",
   "execution_count": null,
   "metadata": {
    "colab": {
     "base_uri": "https://localhost:8080/",
     "height": 362
    },
    "id": "tr_vIkl37GA4",
    "outputId": "721340a5-30b9-4936-e87c-95438f10f8bb"
   },
   "outputs": [],
   "source": [
    "# model.predict(img)"
   ]
  },
  {
   "cell_type": "code",
   "execution_count": null,
   "metadata": {
    "id": "9STk2AB8L2nX"
   },
   "outputs": [],
   "source": [
    "!python --version"
   ]
  },
  {
   "cell_type": "code",
   "execution_count": null,
   "metadata": {},
   "outputs": [],
   "source": []
  },
  {
   "cell_type": "code",
   "execution_count": null,
   "metadata": {},
   "outputs": [],
   "source": []
  },
  {
   "cell_type": "code",
   "execution_count": null,
   "metadata": {},
   "outputs": [],
   "source": []
  },
  {
   "cell_type": "code",
   "execution_count": null,
   "metadata": {},
   "outputs": [],
   "source": []
  }
 ],
 "metadata": {
  "accelerator": "GPU",
  "colab": {
   "collapsed_sections": [],
   "name": "[use-it]Prime100-.ipynb",
   "provenance": []
  },
  "kernelspec": {
   "display_name": "Python 3 (ipykernel)",
   "language": "python",
   "name": "python3"
  },
  "language_info": {
   "codemirror_mode": {
    "name": "ipython",
    "version": 3
   },
   "file_extension": ".py",
   "mimetype": "text/x-python",
   "name": "python",
   "nbconvert_exporter": "python",
   "pygments_lexer": "ipython3",
   "version": "3.8.0"
  },
  "widgets": {
   "application/vnd.jupyter.widget-state+json": {
    "state": {},
    "version_major": 2,
    "version_minor": 0
   }
  }
 },
 "nbformat": 4,
 "nbformat_minor": 1
}
