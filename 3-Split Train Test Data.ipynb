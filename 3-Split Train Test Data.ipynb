{
 "cells": [
  {
   "cell_type": "code",
   "execution_count": 1,
   "id": "1bf4d65f",
   "metadata": {},
   "outputs": [],
   "source": [
    "import glob\n",
    "import cv2\n",
    "import os\n",
    "import shutil\n",
    "import pandas as pd\n",
    "import datetime"
   ]
  },
  {
   "cell_type": "code",
   "execution_count": 2,
   "id": "104dc7d4",
   "metadata": {},
   "outputs": [
    {
     "name": "stdout",
     "output_type": "stream",
     "text": [
      "['0', '1', '2', '3', '4', '5', '6']\n"
     ]
    }
   ],
   "source": [
    "path_data = 'D:/belajar/PA/dataset/new/'\n",
    "dirs = os.listdir(path_data)\n",
    "print(dirs)"
   ]
  },
  {
   "cell_type": "markdown",
   "id": "aeb3b670",
   "metadata": {},
   "source": [
    "# Make destination folder"
   ]
  },
  {
   "cell_type": "code",
   "execution_count": 20,
   "id": "58d52fe2",
   "metadata": {},
   "outputs": [],
   "source": [
    "labels = range(0, 7)\n",
    "today_date = datetime.datetime.now().strftime(\"%Y%m%d\")\n",
    "version = '1'\n",
    "version_date = today_date + '-' + version\n",
    "base_dst_folder = 'D:/belajar/PA/dataset/[3-splitted]/'+version_date+'/'"
   ]
  },
  {
   "cell_type": "code",
   "execution_count": 21,
   "id": "ac0628ac",
   "metadata": {},
   "outputs": [],
   "source": [
    "os.mkdir(base_dst_folder)"
   ]
  },
  {
   "cell_type": "code",
   "execution_count": 22,
   "id": "36ccd076",
   "metadata": {},
   "outputs": [],
   "source": [
    "for subf in ['train', 'test']:\n",
    "    os.mkdir(base_dst_folder+subf)\n",
    "    for label in labels:\n",
    "        os.mkdir(base_dst_folder+subf+'/'+str(label))"
   ]
  },
  {
   "cell_type": "code",
   "execution_count": 23,
   "id": "f6762727",
   "metadata": {},
   "outputs": [],
   "source": [
    "raw_data = pd.DataFrame(columns=[\"label\", \"path\"])"
   ]
  },
  {
   "cell_type": "code",
   "execution_count": 24,
   "id": "f9179618",
   "metadata": {},
   "outputs": [],
   "source": [
    "for label in labels:\n",
    "    folder = path_data + str(label) + '/'\n",
    "    files = os.listdir(folder)\n",
    "    for file in files:\n",
    "        raw_data.loc[len(raw_data.index)] = [label, file]"
   ]
  },
  {
   "cell_type": "code",
   "execution_count": 28,
   "id": "b9d0f41f",
   "metadata": {},
   "outputs": [
    {
     "name": "stdout",
     "output_type": "stream",
     "text": [
      "      label          path\n",
      "2542      6  BM34NEHL.jpg\n",
      "2543      6  BM34NEHR.jpg\n",
      "2544      6   BM34NES.jpg\n",
      "2545      6  BM35NEHL.jpg\n",
      "2546      6   BM35NES.jpg\n"
     ]
    }
   ],
   "source": [
    "print(raw_data.tail())"
   ]
  },
  {
   "cell_type": "code",
   "execution_count": 29,
   "id": "59c9aa15",
   "metadata": {},
   "outputs": [],
   "source": [
    "from sklearn.model_selection import train_test_split\n",
    "\n",
    "X_train, X_test= train_test_split(raw_data, test_size=0.1, train_size=0.9, stratify=raw_data.label)"
   ]
  },
  {
   "cell_type": "code",
   "execution_count": 30,
   "id": "f34bd537",
   "metadata": {},
   "outputs": [
    {
     "data": {
      "text/plain": [
       "(2292, 2)"
      ]
     },
     "execution_count": 30,
     "metadata": {},
     "output_type": "execute_result"
    }
   ],
   "source": [
    "X_train.shape"
   ]
  },
  {
   "cell_type": "code",
   "execution_count": 31,
   "id": "7122f934",
   "metadata": {},
   "outputs": [
    {
     "data": {
      "text/plain": [
       "(255, 2)"
      ]
     },
     "execution_count": 31,
     "metadata": {},
     "output_type": "execute_result"
    }
   ],
   "source": [
    "X_test.shape"
   ]
  },
  {
   "cell_type": "code",
   "execution_count": 32,
   "id": "95f5f4a6",
   "metadata": {},
   "outputs": [
    {
     "data": {
      "text/html": [
       "<div>\n",
       "<style scoped>\n",
       "    .dataframe tbody tr th:only-of-type {\n",
       "        vertical-align: middle;\n",
       "    }\n",
       "\n",
       "    .dataframe tbody tr th {\n",
       "        vertical-align: top;\n",
       "    }\n",
       "\n",
       "    .dataframe thead th {\n",
       "        text-align: right;\n",
       "    }\n",
       "</style>\n",
       "<table border=\"1\" class=\"dataframe\">\n",
       "  <thead>\n",
       "    <tr style=\"text-align: right;\">\n",
       "      <th></th>\n",
       "      <th>label</th>\n",
       "      <th>path</th>\n",
       "    </tr>\n",
       "  </thead>\n",
       "  <tbody>\n",
       "    <tr>\n",
       "      <th>2333</th>\n",
       "      <td>6</td>\n",
       "      <td>AM23NES.jpg</td>\n",
       "    </tr>\n",
       "    <tr>\n",
       "      <th>2301</th>\n",
       "      <td>6</td>\n",
       "      <td>AM12NEHL.jpg</td>\n",
       "    </tr>\n",
       "    <tr>\n",
       "      <th>2118</th>\n",
       "      <td>5</td>\n",
       "      <td>BF34SUS.jpg</td>\n",
       "    </tr>\n",
       "    <tr>\n",
       "      <th>1320</th>\n",
       "      <td>3</td>\n",
       "      <td>AM12AFS.jpg</td>\n",
       "    </tr>\n",
       "    <tr>\n",
       "      <th>3</th>\n",
       "      <td>0</td>\n",
       "      <td>AF02ANHL.jpg</td>\n",
       "    </tr>\n",
       "    <tr>\n",
       "      <th>...</th>\n",
       "      <td>...</td>\n",
       "      <td>...</td>\n",
       "    </tr>\n",
       "    <tr>\n",
       "      <th>2039</th>\n",
       "      <td>5</td>\n",
       "      <td>AM30SUS.jpg</td>\n",
       "    </tr>\n",
       "    <tr>\n",
       "      <th>2261</th>\n",
       "      <td>6</td>\n",
       "      <td>AF31NEHR.jpg</td>\n",
       "    </tr>\n",
       "    <tr>\n",
       "      <th>1741</th>\n",
       "      <td>4</td>\n",
       "      <td>BF04SAS.jpg</td>\n",
       "    </tr>\n",
       "    <tr>\n",
       "      <th>1449</th>\n",
       "      <td>3</td>\n",
       "      <td>BF29AFHL.jpg</td>\n",
       "    </tr>\n",
       "    <tr>\n",
       "      <th>1340</th>\n",
       "      <td>3</td>\n",
       "      <td>AM20AFS.jpg</td>\n",
       "    </tr>\n",
       "  </tbody>\n",
       "</table>\n",
       "<p>2292 rows × 2 columns</p>\n",
       "</div>"
      ],
      "text/plain": [
       "      label          path\n",
       "2333      6   AM23NES.jpg\n",
       "2301      6  AM12NEHL.jpg\n",
       "2118      5   BF34SUS.jpg\n",
       "1320      3   AM12AFS.jpg\n",
       "3         0  AF02ANHL.jpg\n",
       "...     ...           ...\n",
       "2039      5   AM30SUS.jpg\n",
       "2261      6  AF31NEHR.jpg\n",
       "1741      4   BF04SAS.jpg\n",
       "1449      3  BF29AFHL.jpg\n",
       "1340      3   AM20AFS.jpg\n",
       "\n",
       "[2292 rows x 2 columns]"
      ]
     },
     "execution_count": 32,
     "metadata": {},
     "output_type": "execute_result"
    }
   ],
   "source": [
    "X_train"
   ]
  },
  {
   "cell_type": "code",
   "execution_count": 33,
   "id": "176f6050",
   "metadata": {},
   "outputs": [],
   "source": [
    "def save_splitted_data(data, label):\n",
    "    for _, row in data.iterrows():\n",
    "        src = path_data + str(row.label) + '/' + row.path\n",
    "        dst = base_dst_folder + label + '/' + str(row.label) + '/' + row.path\n",
    "        shutil.copyfile(src, dst)\n",
    "    print(f\"saved {label} successfully\")"
   ]
  },
  {
   "cell_type": "code",
   "execution_count": 34,
   "id": "9e85fb12",
   "metadata": {},
   "outputs": [
    {
     "name": "stdout",
     "output_type": "stream",
     "text": [
      "saved train successfully\n",
      "saved test successfully\n"
     ]
    }
   ],
   "source": [
    "save_splitted_data(X_train, 'train')\n",
    "save_splitted_data(X_test, 'test')"
   ]
  },
  {
   "cell_type": "code",
   "execution_count": null,
   "id": "9c0745c3",
   "metadata": {},
   "outputs": [],
   "source": []
  },
  {
   "cell_type": "code",
   "execution_count": null,
   "id": "794374bd",
   "metadata": {},
   "outputs": [],
   "source": []
  }
 ],
 "metadata": {
  "kernelspec": {
   "display_name": "Python 3 (ipykernel)",
   "language": "python",
   "name": "python3"
  },
  "language_info": {
   "codemirror_mode": {
    "name": "ipython",
    "version": 3
   },
   "file_extension": ".py",
   "mimetype": "text/x-python",
   "name": "python",
   "nbconvert_exporter": "python",
   "pygments_lexer": "ipython3",
   "version": "3.8.0"
  }
 },
 "nbformat": 4,
 "nbformat_minor": 5
}
